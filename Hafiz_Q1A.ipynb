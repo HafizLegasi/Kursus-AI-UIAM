{
  "nbformat": 4,
  "nbformat_minor": 0,
  "metadata": {
    "colab": {
      "provenance": []
    },
    "kernelspec": {
      "name": "python3",
      "display_name": "Python 3"
    },
    "language_info": {
      "name": "python"
    },
    "accelerator": "GPU"
  },
  "cells": [
    {
      "cell_type": "code",
      "execution_count": null,
      "metadata": {
        "colab": {
          "base_uri": "https://localhost:8080/",
          "height": 235
        },
        "id": "6TPE62aqCMPK",
        "outputId": "48f73eaf-61f0-41c3-eee6-bfb1ebea93a0"
      },
      "outputs": [
        {
          "output_type": "error",
          "ename": "NameError",
          "evalue": "ignored",
          "traceback": [
            "\u001b[0;31m---------------------------------------------------------------------------\u001b[0m",
            "\u001b[0;31mNameError\u001b[0m                                 Traceback (most recent call last)",
            "\u001b[0;32m<ipython-input-2-4c74a5819211>\u001b[0m in \u001b[0;36m<module>\u001b[0;34m\u001b[0m\n\u001b[1;32m     76\u001b[0m     {\n\u001b[1;32m     77\u001b[0m       \u001b[0;34m\"cell_type\"\u001b[0m\u001b[0;34m:\u001b[0m \u001b[0;34m\"code\"\u001b[0m\u001b[0;34m,\u001b[0m\u001b[0;34m\u001b[0m\u001b[0;34m\u001b[0m\u001b[0m\n\u001b[0;32m---> 78\u001b[0;31m       \u001b[0;34m\"execution_count\"\u001b[0m\u001b[0;34m:\u001b[0m \u001b[0mnull\u001b[0m\u001b[0;34m,\u001b[0m\u001b[0;34m\u001b[0m\u001b[0;34m\u001b[0m\u001b[0m\n\u001b[0m\u001b[1;32m     79\u001b[0m       \"metadata\": {\n\u001b[1;32m     80\u001b[0m         \u001b[0;34m\"id\"\u001b[0m\u001b[0;34m:\u001b[0m \u001b[0;34m\"5Ue0OHCL8zup\"\u001b[0m\u001b[0;34m\u001b[0m\u001b[0;34m\u001b[0m\u001b[0m\n",
            "\u001b[0;31mNameError\u001b[0m: name 'null' is not defined"
          ]
        }
      ],
      "source": []
    },
    {
      "cell_type": "markdown",
      "source": [
        "\"**QUESTION 1**\n",
        "        \"One day while wandering around a clothing store at KL East Mall, you stumbled upon a person who is choosing a dress for Hari Raya.\n",
        "         It turns out that the person is visually impaired and had a hard time distinguishing between an abaya and a kebaya. \n",
        "         To help people with the similar situation, you then decided to develop an AI system to identify the type of clothes using a Convolutional Neural Networks (ConvNet).\n",
        "          In order to train the network, you decide to use the Fashion MNIST dataset which is freely available on Pytorch.\"\n",
        "\n",
        "      \n",
        "\"a) Given the problem, what is the most appropriate loss function to use? Justify your answer. **[5 marks]**\"\n",
        "\n",
        "\"Use the Clasification Method. In classification problems, our job is to predict and differentiate the respective probabilities of all classes the problem is dealing with. The items that need to differentiate is just two which is small number. It is easier that is we just need to collect current dataset of Abaya and Kebaya as the input and not using any complex mathematical formula. The dataset also already in online and there are plenty of them. We do not need to start from scratch. \n",
        "\n",
        "\n",
        "\n"
      ],
      "metadata": {
        "id": "DtIhSqphD7OY"
      }
    }
  ]
}